{
 "cells": [
  {
   "cell_type": "markdown",
   "id": "1878aff8-52a8-4d14-b308-3e816a7c5935",
   "metadata": {
    "jp-MarkdownHeadingCollapsed": true
   },
   "source": [
    "### Data Loading"
   ]
  },
  {
   "cell_type": "code",
   "execution_count": 201,
   "id": "ab2067e8-2632-4c66-a802-8b7cfd16cbca",
   "metadata": {},
   "outputs": [
    {
     "name": "stderr",
     "output_type": "stream",
     "text": [
      "100%|██████████████████████████████████████████████████████████████████████████████| 2452/2452 [00:40<00:00, 60.80it/s]\n"
     ]
    }
   ],
   "source": [
    "import os\n",
    "import torch\n",
    "import librosa\n",
    "import numpy as np\n",
    "from tqdm import tqdm\n",
    "\n",
    "emotion_dict = {\n",
    "    # '01': 'neutral',\n",
    "    '02': 'calm',\n",
    "    '03': 'happy',\n",
    "    '04': 'sad',\n",
    "    '05': 'angry',\n",
    "    '06': 'fearful',\n",
    "    '07': 'disgust',\n",
    "    '08': 'surprised'\n",
    "}\n",
    "\n",
    "def get_emotion_label(filename):\n",
    "    try:\n",
    "        emotion_code = filename.split('-')[2]\n",
    "        return emotion_dict.get(emotion_code)\n",
    "    except:\n",
    "        return None\n",
    "\n",
    "def extract_features(y, sr):\n",
    "    mfcc = librosa.feature.mfcc(y=y, sr=sr, n_mfcc=40)\n",
    "    delta = librosa.feature.delta(mfcc)\n",
    "    delta2 = librosa.feature.delta(mfcc, order=2)\n",
    "    rms = librosa.feature.rms(y=y)\n",
    "    return np.vstack([mfcc, delta, delta2, rms]).T  # shape: (timesteps, 121)\n",
    "\n",
    "#Load dataset\n",
    "X = []\n",
    "y = []\n",
    "\n",
    "flat_folder = \"AUDIO_MIX\"\n",
    "\n",
    "for file in tqdm(os.listdir(flat_folder)):\n",
    "    if not file.endswith(\".wav\"):\n",
    "        continue\n",
    "\n",
    "    label = get_emotion_label(file)\n",
    "    if label is None:\n",
    "        continue\n",
    "\n",
    "    file_path = os.path.join(flat_folder, file)\n",
    "    y_raw, sr = librosa.load(file_path, sr=22050)\n",
    "    y_trimmed, _ = librosa.effects.trim(y_raw)\n",
    "\n",
    "    features = extract_features(y_trimmed, sr)  # Keep (T, 121)\n",
    "    X.append(features)\n",
    "    y.append(label)\n",
    "\n",
    "y = np.array(y)  # Convert labels to numpy array for later processing"
   ]
  },
  {
   "cell_type": "code",
   "execution_count": 221,
   "id": "08757de8-bcf2-4d9f-84a9-2ff719b70156",
   "metadata": {},
   "outputs": [],
   "source": [
    "from torch.utils.data import Dataset\n",
    "\n",
    "class EmotionDataset(Dataset):\n",
    "    def __init__(self, X, y):\n",
    "        if not isinstance(X, torch.Tensor):\n",
    "            self.X = torch.tensor(X, dtype=torch.float32)\n",
    "        else:\n",
    "            self.X = X.float()\n",
    "\n",
    "        if not isinstance(y, torch.Tensor):\n",
    "            self.y = torch.tensor(y, dtype=torch.long)\n",
    "        else:\n",
    "            self.y = y.long()\n",
    "\n",
    "    def __len__(self):\n",
    "        return len(self.X)\n",
    "\n",
    "    def __getitem__(self, idx):\n",
    "        return self.X[idx], self.y[idx]"
   ]
  },
  {
   "cell_type": "code",
   "execution_count": 223,
   "id": "7e760a0c-7bd0-4ccd-8b0d-cc0f8c5dbf3d",
   "metadata": {},
   "outputs": [],
   "source": [
    "import torch\n",
    "from torch.nn.utils.rnn import pad_sequence\n",
    "\n",
    "# Convert list of (timesteps × features) arrays to list of tensors\n",
    "X_tensor_list = [torch.tensor(x, dtype=torch.float32) for x in X]\n",
    "\n",
    "# Pad to the same length (max timesteps) with zeros at the end (post-padding)\n",
    "X_padded = pad_sequence(X_tensor_list, batch_first=True)  # shape: (N, T, F)\n",
    "\n",
    "# Convert labels to numpy array if not already\n",
    "y = np.array(y)"
   ]
  },
  {
   "cell_type": "code",
   "execution_count": 224,
   "id": "db365730-3448-445b-b52d-66fe048f0a9f",
   "metadata": {},
   "outputs": [
    {
     "name": "stdout",
     "output_type": "stream",
     "text": [
      "Label encoding: {'angry': 0, 'calm': 1, 'disgust': 2, 'fearful': 3, 'happy': 4, 'sad': 5, 'surprised': 6}\n"
     ]
    }
   ],
   "source": [
    "from sklearn.preprocessing import LabelEncoder\n",
    "\n",
    "le = LabelEncoder()\n",
    "y_encoded = le.fit_transform(y)\n",
    "\n",
    "# Optional: Save mapping\n",
    "label_map = dict(zip(le.classes_, le.transform(le.classes_)))\n",
    "print(\"Label encoding:\", label_map)"
   ]
  },
  {
   "cell_type": "code",
   "execution_count": 229,
   "id": "14c68434-9854-4f11-a3a2-7f72905ca89f",
   "metadata": {},
   "outputs": [],
   "source": [
    "    from collections import defaultdict\n",
    "    from sklearn.model_selection import train_test_split\n",
    "    from torch.utils.data import DataLoader\n",
    "    \n",
    "    # Group indices by class\n",
    "    class_indices = defaultdict(list)\n",
    "    for idx, label in enumerate(y_encoded):\n",
    "        class_indices[label].append(idx)\n",
    "    \n",
    "    # Balanced sampling\n",
    "    train_indices = []\n",
    "    val_indices = []\n",
    "    \n",
    "    for label, indices in class_indices.items():\n",
    "        train_ids, val_ids = train_test_split(indices, test_size=0.2, random_state=42)\n",
    "        train_indices.extend(train_ids)\n",
    "        val_indices.extend(val_ids)\n",
    "    \n",
    "    # Create balanced datasets\n",
    "    X_train = X_padded[train_indices]\n",
    "    y_train = y_encoded[train_indices]\n",
    "\n",
    "################\n",
    "\n",
    "from librosa.effects import pitch_shift, preemphasis\n",
    "\n",
    "# Re-enhance only 'neutral' class (label == 5) samples in training set\n",
    "for i, global_idx in enumerate(train_indices):\n",
    " if y[global_idx] == 5:  # Check original label (before encoding)\n",
    "        file_name = file_names[global_idx]\n",
    "        file_path = os.path.join(flat_folder, file_name)\n",
    "\n",
    "        y_raw, sr = librosa.load(file_path, sr=22050)\n",
    "        y_trimmed, _ = librosa.effects.trim(y_raw)\n",
    "        y_trimmed = pitch_shift(y_trimmed, sr, n_steps=1)\n",
    "        y_trimmed = preemphasis(y_trimmed)\n",
    "\n",
    "        enhanced_features = extract_features(y_trimmed, sr)\n",
    "        padded = pad_sequence(torch.tensor(enhanced_features).unsqueeze(0), batch_first=True)\n",
    "\n",
    "        X_train[i] = padded.squeeze(0)\n",
    "\n",
    "\n",
    "\n",
    "\n",
    "\n",
    "    X_val = X_padded[val_indices]\n",
    "    y_val = y_encoded[val_indices]\n",
    "\n",
    "    # Create PyTorch datasets\n",
    "    train_dataset = EmotionDataset(X_train, y_train)\n",
    "    val_dataset = EmotionDataset(X_val, y_val)\n",
    "    \n",
    "    # DataLoaders\n",
    "    train_loader = DataLoader(train_dataset, batch_size=32, shuffle=True)\n",
    "    val_loader = DataLoader(val_dataset, batch_size=32, shuffle=False)"
   ]
  },
  {
   "cell_type": "markdown",
   "id": "08979e01-010f-4332-8e68-df9c299ada80",
   "metadata": {
    "jp-MarkdownHeadingCollapsed": true
   },
   "source": [
    "### Model Definition"
   ]
  },
  {
   "cell_type": "code",
   "execution_count": 237,
   "id": "f599b5ad-6eec-4a25-9750-96be64375828",
   "metadata": {},
   "outputs": [],
   "source": [
    "import torch\n",
    "import torch.nn as nn\n",
    "\n",
    "class Attention(nn.Module):\n",
    "    def __init__(self, hidden_dim):\n",
    "        super(Attention, self).__init__()\n",
    "        self.attn = nn.Linear(hidden_dim * 2, 1)  # Bidirectional LSTM\n",
    "\n",
    "    def forward(self, lstm_out):\n",
    "        # lstm_out: (batch, time, hidden*2)\n",
    "        attn_weights = torch.softmax(self.attn(lstm_out), dim=1)  # (batch, time, 1)\n",
    "        context = torch.sum(attn_weights * lstm_out, dim=1)       # (batch, hidden*2)\n",
    "        return context\n",
    "\n",
    "class EmotionCNNBiLSTM(nn.Module):\n",
    "    def __init__(self, input_dim=121, cnn_out=64, lstm_hidden=128, num_classes=7):\n",
    "        super(EmotionCNNBiLSTM, self).__init__()\n",
    "        self.cnn = nn.Sequential(\n",
    "            nn.Conv1d(input_dim, cnn_out, kernel_size=3, padding=1),\n",
    "            nn.ReLU(),\n",
    "            nn.BatchNorm1d(cnn_out),\n",
    "            nn.MaxPool1d(kernel_size=2)\n",
    "        )\n",
    "        self.lstm = nn.LSTM(input_size=cnn_out, hidden_size=lstm_hidden,\n",
    "                            num_layers=1, batch_first=True, bidirectional=True)\n",
    "        self.attention = Attention(hidden_dim=lstm_hidden)\n",
    "        self.fc = nn.Linear(lstm_hidden * 2, num_classes)\n",
    "\n",
    "    def forward(self, x):\n",
    "        # x: (batch, time, features)\n",
    "        x = x.permute(0, 2, 1)              # -> (batch, features, time)\n",
    "        x = self.cnn(x)                     # -> (batch, cnn_out, time//2)\n",
    "        x = x.permute(0, 2, 1)              # -> (batch, time, cnn_out)\n",
    "        lstm_out, _ = self.lstm(x)          # -> (batch, time, hidden*2)\n",
    "        context = self.attention(lstm_out)  # -> (batch, hidden*2)\n",
    "        out = self.fc(context)              # -> (batch, num_classes)\n",
    "        return out"
   ]
  },
  {
   "cell_type": "code",
   "execution_count": 239,
   "id": "82a59942-066b-442b-870e-dc37a4b4839f",
   "metadata": {},
   "outputs": [],
   "source": [
    "device = torch.device(\"cuda\" if torch.cuda.is_available() else \"cpu\")\n",
    "\n",
    "model = EmotionCNNBiLSTM(input_dim=121, cnn_out=64, lstm_hidden=128, num_classes=7)\n",
    "model.to(device)\n",
    "\n",
    "criterion = nn.CrossEntropyLoss()\n",
    "optimizer = torch.optim.Adam(model.parameters(), lr=0.001)"
   ]
  },
  {
   "cell_type": "markdown",
   "id": "6327ae3d-d96e-44b2-9ee4-25f4a9f8b9cf",
   "metadata": {},
   "source": [
    "### With Neutral"
   ]
  },
  {
   "cell_type": "code",
   "execution_count": 195,
   "id": "29c93f26-9705-48f8-9e54-ac8650fe0fa6",
   "metadata": {},
   "outputs": [
    {
     "name": "stdout",
     "output_type": "stream",
     "text": [
      "Epoch 1 - Loss: 107.5164\n",
      "Epoch 2 - Loss: 77.5954\n",
      "Epoch 3 - Loss: 62.8947\n",
      "Epoch 4 - Loss: 53.2308\n",
      "Epoch 5 - Loss: 45.6961\n",
      "Epoch 6 - Loss: 43.0177\n",
      "Epoch 7 - Loss: 35.8779\n",
      "Epoch 8 - Loss: 30.1266\n",
      "Epoch 9 - Loss: 28.8482\n",
      "Epoch 10 - Loss: 28.7815\n",
      "Epoch 11 - Loss: 21.9707\n",
      "Epoch 12 - Loss: 17.7066\n",
      "Epoch 13 - Loss: 14.5640\n",
      "Epoch 14 - Loss: 17.5268\n",
      "Epoch 15 - Loss: 16.0290\n",
      "Epoch 16 - Loss: 14.2415\n",
      "Epoch 17 - Loss: 7.8069\n",
      "Epoch 18 - Loss: 4.9473\n",
      "Epoch 19 - Loss: 3.8585\n",
      "Epoch 20 - Loss: 7.4865\n",
      "Epoch 21 - Loss: 6.3227\n",
      "Epoch 22 - Loss: 5.3935\n",
      "Epoch 23 - Loss: 3.8894\n",
      "Epoch 24 - Loss: 9.6650\n",
      "Epoch 25 - Loss: 5.6026\n",
      "Epoch 26 - Loss: 21.4856\n",
      "Epoch 27 - Loss: 6.6826\n",
      "Epoch 28 - Loss: 2.7237\n",
      "Epoch 29 - Loss: 1.3864\n",
      "Epoch 30 - Loss: 3.6006\n",
      "Epoch 31 - Loss: 11.3596\n",
      "Epoch 32 - Loss: 4.2857\n",
      "Epoch 33 - Loss: 2.1687\n",
      "Epoch 34 - Loss: 1.0950\n",
      "Epoch 35 - Loss: 0.5978\n",
      "✅ Training stopped at epoch 35 with loss 0.5978 (≤ 0.62)\n"
     ]
    }
   ],
   "source": [
    "target_loss = 0.62\n",
    "epoch = 0\n",
    "\n",
    "while True:\n",
    "    model.train()\n",
    "    train_loss = 0\n",
    "\n",
    "    for batch_x, batch_y in train_loader:\n",
    "        batch_x, batch_y = batch_x.to(device), batch_y.to(device)\n",
    "\n",
    "        outputs = model(batch_x)\n",
    "        loss = criterion(outputs, batch_y)\n",
    "\n",
    "        optimizer.zero_grad()\n",
    "        loss.backward()\n",
    "        optimizer.step()\n",
    "\n",
    "        train_loss += loss.item()\n",
    "\n",
    "    epoch += 1\n",
    "    print(f\"Epoch {epoch} - Loss: {train_loss:.4f}\")\n",
    "\n",
    "    if train_loss <= target_loss:\n",
    "        print(f\"✅ Training stopped at epoch {epoch} with loss {train_loss:.4f} (≤ {target_loss})\")\n",
    "        break"
   ]
  },
  {
   "cell_type": "code",
   "execution_count": 197,
   "id": "160fd3bd-bceb-42b5-9b39-08214f362cbe",
   "metadata": {},
   "outputs": [
    {
     "name": "stdout",
     "output_type": "stream",
     "text": [
      "✅ Overall Accuracy: 82.86290322580645\n",
      "✅ Weighted F1 Score: 82.7966227377242\n",
      "✅ Per Class Accuracy:\n",
      "   0: 90.79%\n",
      "   1: 94.74%\n",
      "   2: 79.49%\n",
      "   3: 76.32%\n",
      "   4: 81.58%\n",
      "   5: 68.42%\n",
      "   6: 78.95%\n",
      "   7: 84.62%\n"
     ]
    }
   ],
   "source": [
    "from sklearn.metrics import accuracy_score, f1_score, classification_report\n",
    "\n",
    "model.eval()\n",
    "all_preds = []\n",
    "all_labels = []\n",
    "\n",
    "with torch.no_grad():\n",
    "    for batch_x, batch_y in val_loader:\n",
    "        batch_x = batch_x.to(device)\n",
    "        outputs = model(batch_x)\n",
    "        preds = torch.argmax(outputs, dim=1).cpu().numpy()\n",
    "        all_preds.extend(preds)\n",
    "        all_labels.extend(batch_y.numpy())\n",
    "\n",
    "# Metrics\n",
    "print(\"✅ Overall Accuracy:\", accuracy_score(all_labels, all_preds) * 100)\n",
    "print(\"✅ Weighted F1 Score:\", f1_score(all_labels, all_preds, average='weighted') * 100)\n",
    "print(\"✅ Per Class Accuracy:\")\n",
    "\n",
    "import numpy as np\n",
    "labels = np.unique(all_labels)\n",
    "for label in labels:\n",
    "    correct = sum((np.array(all_preds) == label) & (np.array(all_labels) == label))\n",
    "    total = sum(np.array(all_labels) == label)\n",
    "    acc = 100 * correct / total if total > 0 else 0\n",
    "    print(f\"   {label}: {acc:.2f}%\")"
   ]
  },
  {
   "cell_type": "markdown",
   "id": "ceecf14f-e30f-4bbf-b225-2ef50bda91f6",
   "metadata": {
    "jp-MarkdownHeadingCollapsed": true
   },
   "source": [
    "### Without Neutral"
   ]
  },
  {
   "cell_type": "code",
   "execution_count": 241,
   "id": "644d033b-7182-4aed-a641-8e51e7cce81c",
   "metadata": {},
   "outputs": [
    {
     "name": "stdout",
     "output_type": "stream",
     "text": [
      "Epoch 1 - Loss: 91.4108\n",
      "Epoch 2 - Loss: 67.4256\n",
      "Epoch 3 - Loss: 52.9592\n",
      "Epoch 4 - Loss: 43.7181\n",
      "Epoch 5 - Loss: 38.9742\n",
      "Epoch 6 - Loss: 31.6324\n",
      "Epoch 7 - Loss: 29.1389\n",
      "Epoch 8 - Loss: 29.0103\n",
      "Epoch 9 - Loss: 21.6045\n",
      "Epoch 10 - Loss: 18.8770\n",
      "Epoch 11 - Loss: 15.8109\n",
      "Epoch 12 - Loss: 12.6031\n",
      "Epoch 13 - Loss: 15.2521\n",
      "Epoch 14 - Loss: 10.6168\n",
      "Epoch 15 - Loss: 8.5157\n",
      "Epoch 16 - Loss: 7.5708\n",
      "Epoch 17 - Loss: 5.7641\n",
      "Epoch 18 - Loss: 4.7310\n",
      "Epoch 19 - Loss: 3.2244\n",
      "Epoch 20 - Loss: 3.5903\n",
      "Epoch 21 - Loss: 4.3181\n",
      "Epoch 22 - Loss: 2.5122\n",
      "Epoch 23 - Loss: 2.8631\n",
      "Epoch 24 - Loss: 3.4376\n",
      "Epoch 25 - Loss: 2.5916\n",
      "Epoch 26 - Loss: 3.8042\n",
      "Epoch 27 - Loss: 3.1496\n",
      "Epoch 28 - Loss: 1.3514\n",
      "Epoch 29 - Loss: 0.8918\n",
      "Epoch 30 - Loss: 5.0084\n",
      "Epoch 31 - Loss: 4.0364\n",
      "Epoch 32 - Loss: 2.8830\n",
      "Epoch 33 - Loss: 1.3983\n",
      "Epoch 34 - Loss: 0.4678\n",
      "✅ Training stopped at epoch 34 with loss 0.4678 (≤ 0.5)\n"
     ]
    }
   ],
   "source": [
    "target_loss = 0.5\n",
    "epoch = 0\n",
    "\n",
    "while True:\n",
    "    model.train()\n",
    "    train_loss = 0\n",
    "\n",
    "    for batch_x, batch_y in train_loader:\n",
    "        batch_x, batch_y = batch_x.to(device), batch_y.to(device)\n",
    "\n",
    "        outputs = model(batch_x)\n",
    "        loss = criterion(outputs, batch_y)\n",
    "\n",
    "        optimizer.zero_grad()\n",
    "        loss.backward()\n",
    "        optimizer.step()\n",
    "\n",
    "        train_loss += loss.item()\n",
    "\n",
    "    epoch += 1\n",
    "    print(f\"Epoch {epoch} - Loss: {train_loss:.4f}\")\n",
    "\n",
    "    if train_loss <= target_loss:\n",
    "        print(f\"✅ Training stopped at epoch {epoch} with loss {train_loss:.4f} (≤ {target_loss})\")\n",
    "        break"
   ]
  },
  {
   "cell_type": "code",
   "execution_count": 243,
   "id": "53ad48a8-9389-4b16-b8de-3d69cb548f12",
   "metadata": {},
   "outputs": [
    {
     "name": "stdout",
     "output_type": "stream",
     "text": [
      "✅ Overall Accuracy: 83.4061135371179\n",
      "✅ Weighted F1 Score: 83.41116487853209\n",
      "✅ Per Class Accuracy:\n",
      "   0: 89.47%\n",
      "   1: 96.05%\n",
      "   2: 89.74%\n",
      "   3: 76.32%\n",
      "   4: 77.63%\n",
      "   5: 77.63%\n",
      "   6: 76.92%\n"
     ]
    }
   ],
   "source": [
    "from sklearn.metrics import accuracy_score, f1_score, classification_report\n",
    "\n",
    "model.eval()\n",
    "all_preds = []\n",
    "all_labels = []\n",
    "\n",
    "with torch.no_grad():\n",
    "    for batch_x, batch_y in val_loader:\n",
    "        batch_x = batch_x.to(device)\n",
    "        outputs = model(batch_x)\n",
    "        preds = torch.argmax(outputs, dim=1).cpu().numpy()\n",
    "        all_preds.extend(preds)\n",
    "        all_labels.extend(batch_y.numpy())\n",
    "\n",
    "# Metrics\n",
    "print(\"✅ Overall Accuracy:\", accuracy_score(all_labels, all_preds) * 100)\n",
    "print(\"✅ Weighted F1 Score:\", f1_score(all_labels, all_preds, average='weighted') * 100)\n",
    "print(\"✅ Per Class Accuracy:\")\n",
    "\n",
    "import numpy as np\n",
    "labels = np.unique(all_labels)\n",
    "for label in labels:\n",
    "    correct = sum((np.array(all_preds) == label) & (np.array(all_labels) == label))\n",
    "    total = sum(np.array(all_labels) == label)\n",
    "    acc = 100 * correct / total if total > 0 else 0\n",
    "    print(f\"   {label}: {acc:.2f}%\")"
   ]
  },
  {
   "cell_type": "code",
   "execution_count": 247,
   "id": "480fce73-2da6-4fb0-a07c-669b453adff5",
   "metadata": {
    "scrolled": true
   },
   "outputs": [
    {
     "data": {
      "image/png": "[encoded data removed]",
      "text/plain": [
       "<Figure size 700x600 with 2 Axes>"
      ]
     },
     "metadata": {},
     "output_type": "display_data"
    }
   ],
   "source": [
    "import matplotlib.pyplot as plt\n",
    "import seaborn as sns\n",
    "from sklearn.metrics import confusion_matrix\n",
    "\n",
    "# Confusion Matrix\n",
    "cm = confusion_matrix(all_labels, all_preds)\n",
    "labels_str = ['angry', 'calm', 'disgust', 'fearful', 'happy', 'sad', 'surprised']\n",
    "\n",
    "plt.figure(figsize=(7, 6))\n",
    "sns.heatmap(cm, annot=True, fmt='d', cmap='Blues',\n",
    "            xticklabels=labels_str,\n",
    "            yticklabels=labels_str)\n",
    "plt.xlabel('Predicted')\n",
    "plt.ylabel('True')\n",
    "plt.title('Confusion Matrix')\n",
    "plt.xticks(rotation=45)\n",
    "plt.tight_layout()\n",
    "plt.show()"
   ]
  },
  {
   "cell_type": "code",
   "execution_count": 249,
   "id": "c177912f-ff3c-47e6-953b-d145b84382ea",
   "metadata": {},
   "outputs": [],
   "source": [
    "# Save the trained model\n",
    "torch.save(model.state_dict(), 'final_emotion_model.pth')"
   ]
  }
 ],
 "metadata": {
  "kernelspec": {
   "display_name": "Python 3 (ipykernel)",
   "language": "python",
   "name": "python3"
  },
  "language_info": {
   "codemirror_mode": {
    "name": "ipython",
    "version": 3
   },
   "file_extension": ".py",
   "mimetype": "text/x-python",
   "name": "python",
   "nbconvert_exporter": "python",
   "pygments_lexer": "ipython3",
   "version": "3.12.4"
  }
 },
 "nbformat": 4,
 "nbformat_minor": 5
}
